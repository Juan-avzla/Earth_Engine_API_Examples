{
 "cells": [
  {
   "cell_type": "code",
   "execution_count": 1,
   "id": "763927d1",
   "metadata": {},
   "outputs": [],
   "source": [
    "# Importa la las librerias para llevar a cabo la autentificacion\n",
    "# con Google Earth Engine.\n",
    "import ee\n",
    "# ee.Authorize()\n",
    "ee.Initialize()"
   ]
  },
  {
   "cell_type": "code",
   "execution_count": 2,
   "id": "a88fe19e",
   "metadata": {},
   "outputs": [
    {
     "name": "stdout",
     "output_type": "stream",
     "text": [
      "0.12.1\n"
     ]
    }
   ],
   "source": [
    "# Importacion de la libreria Folium (Integración de Leaflet con Python).\n",
    "import folium\n",
    "from folium import plugins\n",
    "print(folium.__version__)"
   ]
  },
  {
   "cell_type": "code",
   "execution_count": 3,
   "id": "e36b3c51",
   "metadata": {},
   "outputs": [],
   "source": [
    "# Importacion de los assets correspondientes a el area de interes\n",
    "Ciudad_de_Mexico = ee.FeatureCollection(\"users/juanalexis0407/ZM_CDMX\")"
   ]
  },
  {
   "cell_type": "code",
   "execution_count": 4,
   "id": "fb0652a6",
   "metadata": {},
   "outputs": [],
   "source": [
    "# Cloud masking function.\n",
    "def maskL8sr(image):\n",
    "  cloudShadowBitMask = ee.Number(2).pow(3).int()\n",
    "  cloudsBitMask = ee.Number(2).pow(5).int()\n",
    "  qa = image.select('pixel_qa')\t\n",
    "  mask = qa.bitwiseAnd(cloudShadowBitMask).eq(0).And(\n",
    "    qa.bitwiseAnd(cloudsBitMask).eq(0))\n",
    "  return image.updateMask(mask).clip(Ciudad_de_Mexico)"
   ]
  },
  {
   "cell_type": "markdown",
   "id": "af18655b",
   "metadata": {},
   "source": [
    "## Landsat Collection"
   ]
  },
  {
   "cell_type": "code",
   "execution_count": 5,
   "id": "3876182d",
   "metadata": {},
   "outputs": [],
   "source": [
    "col = ee.ImageCollection('LANDSAT/LC08/C01/T1_SR') \\\n",
    "  .map(maskL8sr) \\\n",
    "  .filterDate('2020-01-01','2020-12-31') \\\n",
    "  .filterBounds(Ciudad_de_Mexico);"
   ]
  },
  {
   "cell_type": "code",
   "execution_count": 6,
   "id": "6d2a0e70",
   "metadata": {},
   "outputs": [],
   "source": [
    "# Image reduction\n",
    "image = col.median();"
   ]
  },
  {
   "cell_type": "markdown",
   "id": "7432d682",
   "metadata": {},
   "source": [
    "## NDVI"
   ]
  },
  {
   "cell_type": "code",
   "execution_count": 7,
   "id": "77a8761d",
   "metadata": {},
   "outputs": [],
   "source": [
    "ndvi = image.normalizedDifference(['B5','B4']).rename('NDVI');"
   ]
  },
  {
   "cell_type": "markdown",
   "id": "6a4b8c7f",
   "metadata": {},
   "source": [
    "## Fractional vegetation"
   ]
  },
  {
   "cell_type": "code",
   "execution_count": 8,
   "id": "51742796",
   "metadata": {},
   "outputs": [
    {
     "name": "stdout",
     "output_type": "stream",
     "text": [
      "{'NDVI': -0.709741550695825}\n",
      "{'NDVI': 1}\n"
     ]
    }
   ],
   "source": [
    "# Reduce the region. The region parameter is the Feature geometry.\n",
    "minValue = ndvi.reduceRegion(**{\n",
    "  'reducer': ee.Reducer.min(),\n",
    "  'geometry': Ciudad_de_Mexico.geometry(),\n",
    "  'scale': 30,\n",
    "  'crs': 'EPSG:4326',\n",
    "  'maxPixels': 1e9\n",
    "})\n",
    "\n",
    "# The result is a Dictionary.  Print it.\n",
    "print(minValue.getInfo())\n",
    "\n",
    "# Reduce the region. The region parameter is the Feature geometry.\n",
    "maxValue = ndvi.reduceRegion(**{\n",
    "  'reducer': ee.Reducer.max(),\n",
    "  'geometry': Ciudad_de_Mexico.geometry(),\n",
    "  'scale': 30,\n",
    "  'crs': 'EPSG:4326',\n",
    "  'maxPixels': 1e9\n",
    "})\n",
    "\n",
    "# The result is a Dictionary.  Print it.\n",
    "print(maxValue.getInfo())\n",
    "\n",
    "min_va = ee.Image(-0.709741550695825)\n",
    "max_va = ee.Image(1)"
   ]
  },
  {
   "cell_type": "code",
   "execution_count": 9,
   "id": "8a878e8b",
   "metadata": {},
   "outputs": [],
   "source": [
    "fv =(ndvi.subtract(min_va).divide(max_va.subtract(min_va))).pow(ee.Number(2)).rename('FV');"
   ]
  },
  {
   "cell_type": "markdown",
   "id": "b807c6fe",
   "metadata": {},
   "source": [
    "## Calculo de Emisividad"
   ]
  },
  {
   "cell_type": "markdown",
   "id": "a3e58ec9",
   "metadata": {},
   "source": [
    "### Thermal"
   ]
  },
  {
   "cell_type": "code",
   "execution_count": 10,
   "id": "2e07f528",
   "metadata": {},
   "outputs": [],
   "source": [
    "thermal= image.select('B10').multiply(0.1)"
   ]
  },
  {
   "cell_type": "code",
   "execution_count": 11,
   "id": "e8e339a5",
   "metadata": {},
   "outputs": [
    {
     "name": "stdout",
     "output_type": "stream",
     "text": [
      "{'B10': 272.45}\n",
      "{'B10': 313.40000000000003}\n"
     ]
    }
   ],
   "source": [
    "# Reduce the region. The region parameter is the Feature geometry.\n",
    "min_thermal = thermal.reduceRegion(**{\n",
    "  'reducer': ee.Reducer.min(),\n",
    "  'geometry': Ciudad_de_Mexico.geometry(),\n",
    "  'scale': 30,\n",
    "  'crs': 'EPSG:4326',\n",
    "  'maxPixels': 1e9\n",
    "})\n",
    "\n",
    "# The result is a Dictionary.  Print it.\n",
    "print(min_thermal.getInfo())\n",
    "\n",
    "# Reduce the region. The region parameter is the Feature geometry.\n",
    "max_thermal = thermal.reduceRegion(**{\n",
    "  'reducer': ee.Reducer.max(),\n",
    "  'geometry': Ciudad_de_Mexico.geometry(),\n",
    "  'scale': 30,\n",
    "  'crs': 'EPSG:4326',\n",
    "  'maxPixels': 1e9\n",
    "})\n",
    "\n",
    "# The result is a Dictionary.  Print it.\n",
    "print(max_thermal.getInfo())"
   ]
  },
  {
   "cell_type": "markdown",
   "id": "17a0107b",
   "metadata": {},
   "source": [
    "### Emisividad"
   ]
  },
  {
   "cell_type": "code",
   "execution_count": 12,
   "id": "56563041",
   "metadata": {},
   "outputs": [],
   "source": [
    "# Crea las constantes \n",
    "a = ee.Number(0.004);\n",
    "b = ee.Number(0.986);"
   ]
  },
  {
   "cell_type": "code",
   "execution_count": 13,
   "id": "e7c74d5d",
   "metadata": {},
   "outputs": [],
   "source": [
    "EM = fv.multiply(a).add(b).rename('EMM')"
   ]
  },
  {
   "cell_type": "code",
   "execution_count": 14,
   "id": "3fbaeef6",
   "metadata": {},
   "outputs": [
    {
     "name": "stdout",
     "output_type": "stream",
     "text": [
      "{'EMM': 0.986}\n",
      "{'EMM': 0.99}\n"
     ]
    }
   ],
   "source": [
    "# Reduce the region. The region parameter is the Feature geometry.\n",
    "min_EM = EM.reduceRegion(**{\n",
    "  'reducer': ee.Reducer.min(),\n",
    "  'geometry': Ciudad_de_Mexico.geometry(),\n",
    "  'scale': 30,\n",
    "  'crs': 'EPSG:4326',\n",
    "  'maxPixels': 1e9\n",
    "})\n",
    "\n",
    "# The result is a Dictionary.  Print it.\n",
    "print(min_EM.getInfo())\n",
    "\n",
    "# Reduce the region. The region parameter is the Feature geometry.\n",
    "max_EM = EM.reduceRegion(**{\n",
    "  'reducer': ee.Reducer.max(),\n",
    "  'geometry': Ciudad_de_Mexico.geometry(),\n",
    "  'scale': 30,\n",
    "  'crs': 'EPSG:4326',\n",
    "  'maxPixels': 1e9\n",
    "})\n",
    "\n",
    "# The result is a Dictionary.  Print it.\n",
    "print(max_EM.getInfo())"
   ]
  },
  {
   "cell_type": "markdown",
   "id": "7db2f13d",
   "metadata": {},
   "source": [
    "### LST"
   ]
  },
  {
   "cell_type": "code",
   "execution_count": 15,
   "id": "9da69b66",
   "metadata": {},
   "outputs": [],
   "source": [
    "LST = thermal.expression(\n",
    "'(Tb/(1 + (0.00115* (Tb / 1.438))*log(Ep)))-273.15', {\n",
    " 'Tb': thermal.select('B10'),\n",
    "'Ep': EM.select('EMM')\n",
    "}).rename('LST');"
   ]
  },
  {
   "cell_type": "code",
   "execution_count": 16,
   "id": "14d8202c",
   "metadata": {},
   "outputs": [
    {
     "name": "stdout",
     "output_type": "stream",
     "text": [
      "{'LST': 0.08919025379753975}\n",
      "{'LST': 41.29975039804117}\n"
     ]
    }
   ],
   "source": [
    "# Reduce the region. The region parameter is the Feature geometry.\n",
    "min_LST = LST.reduceRegion(**{\n",
    "  'reducer': ee.Reducer.min(),\n",
    "  'geometry': Ciudad_de_Mexico.geometry(),\n",
    "  'scale': 30,\n",
    "  'crs': 'EPSG:4326',\n",
    "  'maxPixels': 1e9\n",
    "})\n",
    "\n",
    "# The result is a Dictionary.  Print it.\n",
    "print(min_LST.getInfo())\n",
    "\n",
    "# Reduce the region. The region parameter is the Feature geometry.\n",
    "max_LST = LST.reduceRegion(**{\n",
    "  'reducer': ee.Reducer.max(),\n",
    "  'geometry': Ciudad_de_Mexico.geometry(),\n",
    "  'scale': 30,\n",
    "  'crs': 'EPSG:4326',\n",
    "  'maxPixels': 1e9\n",
    "})\n",
    "\n",
    "# The result is a Dictionary.  Print it.\n",
    "print(max_LST.getInfo())"
   ]
  },
  {
   "cell_type": "markdown",
   "id": "e9566820",
   "metadata": {},
   "source": [
    "## Folium map"
   ]
  },
  {
   "cell_type": "code",
   "execution_count": 17,
   "id": "72ba0f73",
   "metadata": {
    "scrolled": false
   },
   "outputs": [
    {
     "data": {
      "text/html": [
       "<div style=\"width:100%;\"><div style=\"position:relative;width:100%;height:0;padding-bottom:60%;\"><span style=\"color:#565656\">Make this Notebook Trusted to load map: File -> Trust Notebook</span><iframe src=\"about:blank\" style=\"position:absolute;width:100%;height:100%;left:0;top:0;border:none !important;\" data-html=%3C%21DOCTYPE%20html%3E%0A%3Chead%3E%20%20%20%20%0A%20%20%20%20%3Cmeta%20http-equiv%3D%22content-type%22%20content%3D%22text/html%3B%20charset%3DUTF-8%22%20/%3E%0A%20%20%20%20%0A%20%20%20%20%20%20%20%20%3Cscript%3E%0A%20%20%20%20%20%20%20%20%20%20%20%20L_NO_TOUCH%20%3D%20false%3B%0A%20%20%20%20%20%20%20%20%20%20%20%20L_DISABLE_3D%20%3D%20false%3B%0A%20%20%20%20%20%20%20%20%3C/script%3E%0A%20%20%20%20%0A%20%20%20%20%3Cstyle%3Ehtml%2C%20body%20%7Bwidth%3A%20100%25%3Bheight%3A%20100%25%3Bmargin%3A%200%3Bpadding%3A%200%3B%7D%3C/style%3E%0A%20%20%20%20%3Cstyle%3E%23map%20%7Bposition%3Aabsolute%3Btop%3A0%3Bbottom%3A0%3Bright%3A0%3Bleft%3A0%3B%7D%3C/style%3E%0A%20%20%20%20%3Cscript%20src%3D%22https%3A//cdn.jsdelivr.net/npm/leaflet%401.6.0/dist/leaflet.js%22%3E%3C/script%3E%0A%20%20%20%20%3Cscript%20src%3D%22https%3A//code.jquery.com/jquery-1.12.4.min.js%22%3E%3C/script%3E%0A%20%20%20%20%3Cscript%20src%3D%22https%3A//maxcdn.bootstrapcdn.com/bootstrap/3.2.0/js/bootstrap.min.js%22%3E%3C/script%3E%0A%20%20%20%20%3Cscript%20src%3D%22https%3A//cdnjs.cloudflare.com/ajax/libs/Leaflet.awesome-markers/2.0.2/leaflet.awesome-markers.js%22%3E%3C/script%3E%0A%20%20%20%20%3Clink%20rel%3D%22stylesheet%22%20href%3D%22https%3A//cdn.jsdelivr.net/npm/leaflet%401.6.0/dist/leaflet.css%22/%3E%0A%20%20%20%20%3Clink%20rel%3D%22stylesheet%22%20href%3D%22https%3A//maxcdn.bootstrapcdn.com/bootstrap/3.2.0/css/bootstrap.min.css%22/%3E%0A%20%20%20%20%3Clink%20rel%3D%22stylesheet%22%20href%3D%22https%3A//maxcdn.bootstrapcdn.com/bootstrap/3.2.0/css/bootstrap-theme.min.css%22/%3E%0A%20%20%20%20%3Clink%20rel%3D%22stylesheet%22%20href%3D%22https%3A//maxcdn.bootstrapcdn.com/font-awesome/4.6.3/css/font-awesome.min.css%22/%3E%0A%20%20%20%20%3Clink%20rel%3D%22stylesheet%22%20href%3D%22https%3A//cdnjs.cloudflare.com/ajax/libs/Leaflet.awesome-markers/2.0.2/leaflet.awesome-markers.css%22/%3E%0A%20%20%20%20%3Clink%20rel%3D%22stylesheet%22%20href%3D%22https%3A//cdn.jsdelivr.net/gh/python-visualization/folium/folium/templates/leaflet.awesome.rotate.min.css%22/%3E%0A%20%20%20%20%0A%20%20%20%20%20%20%20%20%20%20%20%20%3Cmeta%20name%3D%22viewport%22%20content%3D%22width%3Ddevice-width%2C%0A%20%20%20%20%20%20%20%20%20%20%20%20%20%20%20%20initial-scale%3D1.0%2C%20maximum-scale%3D1.0%2C%20user-scalable%3Dno%22%20/%3E%0A%20%20%20%20%20%20%20%20%20%20%20%20%3Cstyle%3E%0A%20%20%20%20%20%20%20%20%20%20%20%20%20%20%20%20%23map_07e1840a9c544758a5e0f9e4962b1788%20%7B%0A%20%20%20%20%20%20%20%20%20%20%20%20%20%20%20%20%20%20%20%20position%3A%20relative%3B%0A%20%20%20%20%20%20%20%20%20%20%20%20%20%20%20%20%20%20%20%20width%3A%20100.0%25%3B%0A%20%20%20%20%20%20%20%20%20%20%20%20%20%20%20%20%20%20%20%20height%3A%20100.0%25%3B%0A%20%20%20%20%20%20%20%20%20%20%20%20%20%20%20%20%20%20%20%20left%3A%200.0%25%3B%0A%20%20%20%20%20%20%20%20%20%20%20%20%20%20%20%20%20%20%20%20top%3A%200.0%25%3B%0A%20%20%20%20%20%20%20%20%20%20%20%20%20%20%20%20%7D%0A%20%20%20%20%20%20%20%20%20%20%20%20%3C/style%3E%0A%20%20%20%20%20%20%20%20%0A%20%20%20%20%3Cscript%20src%3D%22https%3A//cdn.jsdelivr.net/gh/ardhi/Leaflet.MousePosition/src/L.Control.MousePosition.min.js%22%3E%3C/script%3E%0A%20%20%20%20%3Clink%20rel%3D%22stylesheet%22%20href%3D%22https%3A//cdn.jsdelivr.net/gh/ardhi/Leaflet.MousePosition/src/L.Control.MousePosition.min.css%22/%3E%0A%20%20%20%20%3Cscript%20src%3D%22https%3A//cdnjs.cloudflare.com/ajax/libs/leaflet.draw/1.0.2/leaflet.draw.js%22%3E%3C/script%3E%0A%20%20%20%20%3Clink%20rel%3D%22stylesheet%22%20href%3D%22https%3A//cdnjs.cloudflare.com/ajax/libs/leaflet.draw/1.0.2/leaflet.draw.css%22/%3E%0A%20%20%20%20%0A%20%20%20%20%20%20%20%20%20%20%20%20%3Cstyle%3E%0A%20%20%20%20%20%20%20%20%20%20%20%20%20%20%20%20%23export%20%7B%0A%20%20%20%20%20%20%20%20%20%20%20%20%20%20%20%20%20%20%20%20position%3A%20absolute%3B%0A%20%20%20%20%20%20%20%20%20%20%20%20%20%20%20%20%20%20%20%20top%3A%205px%3B%0A%20%20%20%20%20%20%20%20%20%20%20%20%20%20%20%20%20%20%20%20right%3A%2010px%3B%0A%20%20%20%20%20%20%20%20%20%20%20%20%20%20%20%20%20%20%20%20z-index%3A%20999%3B%0A%20%20%20%20%20%20%20%20%20%20%20%20%20%20%20%20%20%20%20%20background%3A%20white%3B%0A%20%20%20%20%20%20%20%20%20%20%20%20%20%20%20%20%20%20%20%20color%3A%20black%3B%0A%20%20%20%20%20%20%20%20%20%20%20%20%20%20%20%20%20%20%20%20padding%3A%206px%3B%0A%20%20%20%20%20%20%20%20%20%20%20%20%20%20%20%20%20%20%20%20border-radius%3A%204px%3B%0A%20%20%20%20%20%20%20%20%20%20%20%20%20%20%20%20%20%20%20%20font-family%3A%20%27Helvetica%20Neue%27%3B%0A%20%20%20%20%20%20%20%20%20%20%20%20%20%20%20%20%20%20%20%20cursor%3A%20pointer%3B%0A%20%20%20%20%20%20%20%20%20%20%20%20%20%20%20%20%20%20%20%20font-size%3A%2012px%3B%0A%20%20%20%20%20%20%20%20%20%20%20%20%20%20%20%20%20%20%20%20text-decoration%3A%20none%3B%0A%20%20%20%20%20%20%20%20%20%20%20%20%20%20%20%20%20%20%20%20top%3A%2090px%3B%0A%20%20%20%20%20%20%20%20%20%20%20%20%20%20%20%20%7D%0A%20%20%20%20%20%20%20%20%20%20%20%20%3C/style%3E%0A%20%20%20%20%20%20%20%20%0A%20%20%20%20%3Cscript%20src%3D%22https%3A//cdn.jsdelivr.net/gh/ljagis/leaflet-measure%402.1.7/dist/leaflet-measure.min.js%22%3E%3C/script%3E%0A%20%20%20%20%3Clink%20rel%3D%22stylesheet%22%20href%3D%22https%3A//cdn.jsdelivr.net/gh/ljagis/leaflet-measure%402.1.7/dist/leaflet-measure.min.css%22/%3E%0A%3C/head%3E%0A%3Cbody%3E%20%20%20%20%0A%20%20%20%20%0A%20%20%20%20%20%20%20%20%20%20%20%20%3Cdiv%20class%3D%22folium-map%22%20id%3D%22map_07e1840a9c544758a5e0f9e4962b1788%22%20%3E%3C/div%3E%0A%20%20%20%20%20%20%20%20%0A%20%20%20%20%3Ca%20href%3D%27%23%27%20id%3D%27export%27%3EExport%3C/a%3E%0A%3C/body%3E%0A%3Cscript%3E%20%20%20%20%0A%20%20%20%20%0A%20%20%20%20%20%20%20%20%20%20%20%20var%20map_07e1840a9c544758a5e0f9e4962b1788%20%3D%20L.map%28%0A%20%20%20%20%20%20%20%20%20%20%20%20%20%20%20%20%22map_07e1840a9c544758a5e0f9e4962b1788%22%2C%0A%20%20%20%20%20%20%20%20%20%20%20%20%20%20%20%20%7B%0A%20%20%20%20%20%20%20%20%20%20%20%20%20%20%20%20%20%20%20%20center%3A%20%5B19.4338%2C%20-99.13261%5D%2C%0A%20%20%20%20%20%20%20%20%20%20%20%20%20%20%20%20%20%20%20%20crs%3A%20L.CRS.EPSG3857%2C%0A%20%20%20%20%20%20%20%20%20%20%20%20%20%20%20%20%20%20%20%20zoom%3A%2013%2C%0A%20%20%20%20%20%20%20%20%20%20%20%20%20%20%20%20%20%20%20%20zoomControl%3A%20true%2C%0A%20%20%20%20%20%20%20%20%20%20%20%20%20%20%20%20%20%20%20%20preferCanvas%3A%20false%2C%0A%20%20%20%20%20%20%20%20%20%20%20%20%20%20%20%20%7D%0A%20%20%20%20%20%20%20%20%20%20%20%20%29%3B%0A%0A%20%20%20%20%20%20%20%20%20%20%20%20%0A%0A%20%20%20%20%20%20%20%20%0A%20%20%20%20%0A%20%20%20%20%20%20%20%20%20%20%20%20var%20tile_layer_78304798ec46414d968fa45f69b0e089%20%3D%20L.tileLayer%28%0A%20%20%20%20%20%20%20%20%20%20%20%20%20%20%20%20%22https%3A//%7Bs%7D.tile.openstreetmap.org/%7Bz%7D/%7Bx%7D/%7By%7D.png%22%2C%0A%20%20%20%20%20%20%20%20%20%20%20%20%20%20%20%20%7B%22attribution%22%3A%20%22Data%20by%20%5Cu0026copy%3B%20%5Cu003ca%20href%3D%5C%22http%3A//openstreetmap.org%5C%22%5Cu003eOpenStreetMap%5Cu003c/a%5Cu003e%2C%20under%20%5Cu003ca%20href%3D%5C%22http%3A//www.openstreetmap.org/copyright%5C%22%5Cu003eODbL%5Cu003c/a%5Cu003e.%22%2C%20%22detectRetina%22%3A%20false%2C%20%22maxNativeZoom%22%3A%2018%2C%20%22maxZoom%22%3A%2018%2C%20%22minZoom%22%3A%200%2C%20%22noWrap%22%3A%20false%2C%20%22opacity%22%3A%201%2C%20%22subdomains%22%3A%20%22abc%22%2C%20%22tms%22%3A%20false%7D%0A%20%20%20%20%20%20%20%20%20%20%20%20%29.addTo%28map_07e1840a9c544758a5e0f9e4962b1788%29%3B%0A%20%20%20%20%20%20%20%20%0A%20%20%20%20%0A%20%20%20%20%20%20%20%20%20%20%20%20var%20tile_layer_97c3dd5f2ac6412ead05e0db35ea5d48%20%3D%20L.tileLayer%28%0A%20%20%20%20%20%20%20%20%20%20%20%20%20%20%20%20%22https%3A//earthengine.googleapis.com/v1alpha/projects/earthengine-legacy/maps/d0a07d07dab8bcf8e66f74e53d43acee-d213697ac5cedf087ae1158316729345/tiles/%7Bz%7D/%7Bx%7D/%7By%7D%22%2C%0A%20%20%20%20%20%20%20%20%20%20%20%20%20%20%20%20%7B%22attribution%22%3A%20%22Map%20Data%20%5Cu0026copy%3B%20%5Cu003ca%20href%3D%5C%22https%3A//earthengine.google.com/%5C%22%5Cu003eGoogle%20Earth%20Engine%5Cu003c/a%5Cu003e%22%2C%20%22detectRetina%22%3A%20false%2C%20%22maxNativeZoom%22%3A%2018%2C%20%22maxZoom%22%3A%2018%2C%20%22minZoom%22%3A%200%2C%20%22noWrap%22%3A%20false%2C%20%22opacity%22%3A%201%2C%20%22subdomains%22%3A%20%22abc%22%2C%20%22tms%22%3A%20false%7D%0A%20%20%20%20%20%20%20%20%20%20%20%20%29.addTo%28map_07e1840a9c544758a5e0f9e4962b1788%29%3B%0A%20%20%20%20%20%20%20%20%0A%20%20%20%20%0A%20%20%20%20%20%20%20%20%20%20%20%20var%20tile_layer_7a567f2b3c8f4281b44fdec6e7ae9452%20%3D%20L.tileLayer%28%0A%20%20%20%20%20%20%20%20%20%20%20%20%20%20%20%20%22https%3A//earthengine.googleapis.com/v1alpha/projects/earthengine-legacy/maps/ece09e1f3015b76dc16e5df3c4d92cba-09a6b27601ef15eafeee4bdad37b167c/tiles/%7Bz%7D/%7Bx%7D/%7By%7D%22%2C%0A%20%20%20%20%20%20%20%20%20%20%20%20%20%20%20%20%7B%22attribution%22%3A%20%22Map%20Data%20%5Cu0026copy%3B%20%5Cu003ca%20href%3D%5C%22https%3A//earthengine.google.com/%5C%22%5Cu003eGoogle%20Earth%20Engine%5Cu003c/a%5Cu003e%22%2C%20%22detectRetina%22%3A%20false%2C%20%22maxNativeZoom%22%3A%2018%2C%20%22maxZoom%22%3A%2018%2C%20%22minZoom%22%3A%200%2C%20%22noWrap%22%3A%20false%2C%20%22opacity%22%3A%201%2C%20%22subdomains%22%3A%20%22abc%22%2C%20%22tms%22%3A%20false%7D%0A%20%20%20%20%20%20%20%20%20%20%20%20%29.addTo%28map_07e1840a9c544758a5e0f9e4962b1788%29%3B%0A%20%20%20%20%20%20%20%20%0A%20%20%20%20%0A%20%20%20%20%20%20%20%20%20%20%20%20var%20tile_layer_e08e1c73fe6e4afb9886962e2134da55%20%3D%20L.tileLayer%28%0A%20%20%20%20%20%20%20%20%20%20%20%20%20%20%20%20%22https%3A//earthengine.googleapis.com/v1alpha/projects/earthengine-legacy/maps/cf5639e2ba217956800bfa22662dcd24-9c60bb144d000f3494d1007a08d827b3/tiles/%7Bz%7D/%7Bx%7D/%7By%7D%22%2C%0A%20%20%20%20%20%20%20%20%20%20%20%20%20%20%20%20%7B%22attribution%22%3A%20%22Map%20Data%20%5Cu0026copy%3B%20%5Cu003ca%20href%3D%5C%22https%3A//earthengine.google.com/%5C%22%5Cu003eGoogle%20Earth%20Engine%5Cu003c/a%5Cu003e%22%2C%20%22detectRetina%22%3A%20false%2C%20%22maxNativeZoom%22%3A%2018%2C%20%22maxZoom%22%3A%2018%2C%20%22minZoom%22%3A%200%2C%20%22noWrap%22%3A%20false%2C%20%22opacity%22%3A%201%2C%20%22subdomains%22%3A%20%22abc%22%2C%20%22tms%22%3A%20false%7D%0A%20%20%20%20%20%20%20%20%20%20%20%20%29.addTo%28map_07e1840a9c544758a5e0f9e4962b1788%29%3B%0A%20%20%20%20%20%20%20%20%0A%20%20%20%20%0A%20%20%20%20%20%20%20%20%20%20%20%20var%20tile_layer_96f1c8ee50b8425bad422e87cc88eeb6%20%3D%20L.tileLayer%28%0A%20%20%20%20%20%20%20%20%20%20%20%20%20%20%20%20%22https%3A//earthengine.googleapis.com/v1alpha/projects/earthengine-legacy/maps/6fc84927f649e22c2a4f30dbf3e6d192-0963ee70fb739e6e7e4a052caeb9310b/tiles/%7Bz%7D/%7Bx%7D/%7By%7D%22%2C%0A%20%20%20%20%20%20%20%20%20%20%20%20%20%20%20%20%7B%22attribution%22%3A%20%22Map%20Data%20%5Cu0026copy%3B%20%5Cu003ca%20href%3D%5C%22https%3A//earthengine.google.com/%5C%22%5Cu003eGoogle%20Earth%20Engine%5Cu003c/a%5Cu003e%22%2C%20%22detectRetina%22%3A%20false%2C%20%22maxNativeZoom%22%3A%2018%2C%20%22maxZoom%22%3A%2018%2C%20%22minZoom%22%3A%200%2C%20%22noWrap%22%3A%20false%2C%20%22opacity%22%3A%201%2C%20%22subdomains%22%3A%20%22abc%22%2C%20%22tms%22%3A%20false%7D%0A%20%20%20%20%20%20%20%20%20%20%20%20%29.addTo%28map_07e1840a9c544758a5e0f9e4962b1788%29%3B%0A%20%20%20%20%20%20%20%20%0A%20%20%20%20%0A%20%20%20%20%20%20%20%20%20%20%20%20var%20tile_layer_cdfdfbb2e5f0408e84218b9e26f50094%20%3D%20L.tileLayer%28%0A%20%20%20%20%20%20%20%20%20%20%20%20%20%20%20%20%22https%3A//earthengine.googleapis.com/v1alpha/projects/earthengine-legacy/maps/382dd3133defbd0920488aba3d8922ae-20632de67bfce3e23dcff945c84b28fc/tiles/%7Bz%7D/%7Bx%7D/%7By%7D%22%2C%0A%20%20%20%20%20%20%20%20%20%20%20%20%20%20%20%20%7B%22attribution%22%3A%20%22Map%20Data%20%5Cu0026copy%3B%20%5Cu003ca%20href%3D%5C%22https%3A//earthengine.google.com/%5C%22%5Cu003eGoogle%20Earth%20Engine%5Cu003c/a%5Cu003e%22%2C%20%22detectRetina%22%3A%20false%2C%20%22maxNativeZoom%22%3A%2018%2C%20%22maxZoom%22%3A%2018%2C%20%22minZoom%22%3A%200%2C%20%22noWrap%22%3A%20false%2C%20%22opacity%22%3A%201%2C%20%22subdomains%22%3A%20%22abc%22%2C%20%22tms%22%3A%20false%7D%0A%20%20%20%20%20%20%20%20%20%20%20%20%29.addTo%28map_07e1840a9c544758a5e0f9e4962b1788%29%3B%0A%20%20%20%20%20%20%20%20%0A%20%20%20%20%0A%20%20%20%20%20%20%20%20%20%20%20%20var%20tile_layer_59b718e657334babb7c07f70f9463826%20%3D%20L.tileLayer%28%0A%20%20%20%20%20%20%20%20%20%20%20%20%20%20%20%20%22https%3A//earthengine.googleapis.com/v1alpha/projects/earthengine-legacy/maps/2b6cccbdb145a739641acfdf9951fc65-d614b10cccda672eb62909a3c1e790e4/tiles/%7Bz%7D/%7Bx%7D/%7By%7D%22%2C%0A%20%20%20%20%20%20%20%20%20%20%20%20%20%20%20%20%7B%22attribution%22%3A%20%22Map%20Data%20%5Cu0026copy%3B%20%5Cu003ca%20href%3D%5C%22https%3A//earthengine.google.com/%5C%22%5Cu003eGoogle%20Earth%20Engine%5Cu003c/a%5Cu003e%22%2C%20%22detectRetina%22%3A%20false%2C%20%22maxNativeZoom%22%3A%2018%2C%20%22maxZoom%22%3A%2018%2C%20%22minZoom%22%3A%200%2C%20%22noWrap%22%3A%20false%2C%20%22opacity%22%3A%201%2C%20%22subdomains%22%3A%20%22abc%22%2C%20%22tms%22%3A%20false%7D%0A%20%20%20%20%20%20%20%20%20%20%20%20%29.addTo%28map_07e1840a9c544758a5e0f9e4962b1788%29%3B%0A%20%20%20%20%20%20%20%20%0A%20%20%20%20%0A%20%20%20%20%20%20%20%20%20%20%20%20var%20layer_control_27c509cb0d174b1ca2f49c83bc02db68%20%3D%20%7B%0A%20%20%20%20%20%20%20%20%20%20%20%20%20%20%20%20base_layers%20%3A%20%7B%0A%20%20%20%20%20%20%20%20%20%20%20%20%20%20%20%20%20%20%20%20%22openstreetmap%22%20%3A%20tile_layer_78304798ec46414d968fa45f69b0e089%2C%0A%20%20%20%20%20%20%20%20%20%20%20%20%20%20%20%20%7D%2C%0A%20%20%20%20%20%20%20%20%20%20%20%20%20%20%20%20overlays%20%3A%20%20%7B%0A%20%20%20%20%20%20%20%20%20%20%20%20%20%20%20%20%20%20%20%20%22Color%20Verdadero%22%20%3A%20tile_layer_97c3dd5f2ac6412ead05e0db35ea5d48%2C%0A%20%20%20%20%20%20%20%20%20%20%20%20%20%20%20%20%20%20%20%20%22NDVI%22%20%3A%20tile_layer_7a567f2b3c8f4281b44fdec6e7ae9452%2C%0A%20%20%20%20%20%20%20%20%20%20%20%20%20%20%20%20%20%20%20%20%22fv%22%20%3A%20tile_layer_e08e1c73fe6e4afb9886962e2134da55%2C%0A%20%20%20%20%20%20%20%20%20%20%20%20%20%20%20%20%20%20%20%20%22thermal%22%20%3A%20tile_layer_96f1c8ee50b8425bad422e87cc88eeb6%2C%0A%20%20%20%20%20%20%20%20%20%20%20%20%20%20%20%20%20%20%20%20%22Emisividad%22%20%3A%20tile_layer_cdfdfbb2e5f0408e84218b9e26f50094%2C%0A%20%20%20%20%20%20%20%20%20%20%20%20%20%20%20%20%20%20%20%20%22LST%22%20%3A%20tile_layer_59b718e657334babb7c07f70f9463826%2C%0A%20%20%20%20%20%20%20%20%20%20%20%20%20%20%20%20%7D%2C%0A%20%20%20%20%20%20%20%20%20%20%20%20%7D%3B%0A%20%20%20%20%20%20%20%20%20%20%20%20L.control.layers%28%0A%20%20%20%20%20%20%20%20%20%20%20%20%20%20%20%20layer_control_27c509cb0d174b1ca2f49c83bc02db68.base_layers%2C%0A%20%20%20%20%20%20%20%20%20%20%20%20%20%20%20%20layer_control_27c509cb0d174b1ca2f49c83bc02db68.overlays%2C%0A%20%20%20%20%20%20%20%20%20%20%20%20%20%20%20%20%7B%22autoZIndex%22%3A%20true%2C%20%22collapsed%22%3A%20true%2C%20%22position%22%3A%20%22topright%22%7D%0A%20%20%20%20%20%20%20%20%20%20%20%20%29.addTo%28map_07e1840a9c544758a5e0f9e4962b1788%29%3B%0A%20%20%20%20%20%20%20%20%0A%20%20%20%20%0A%20%20%20%20%20%20%20%20%20%20%20%20var%20mouse_position_eb61822348274aeba9a2abe470ae2417%20%3D%20new%20L.Control.MousePosition%28%0A%20%20%20%20%20%20%20%20%20%20%20%20%20%20%20%20%7B%22emptyString%22%3A%20%22Unavailable%22%2C%20%22lngFirst%22%3A%20false%2C%20%22numDigits%22%3A%205%2C%20%22position%22%3A%20%22bottomright%22%2C%20%22prefix%22%3A%20%22Mouse%3A%22%2C%20%22separator%22%3A%20%22%20%7C%20%22%7D%0A%20%20%20%20%20%20%20%20%20%20%20%20%29%3B%0A%20%20%20%20%20%20%20%20%20%20%20%20mouse_position_eb61822348274aeba9a2abe470ae2417.options%5B%22latFormatter%22%5D%20%3D%0A%20%20%20%20%20%20%20%20%20%20%20%20%20%20%20%20function%28num%29%20%7Breturn%20L.Util.formatNum%28num%2C%203%29%20%2B%20%27%20%C2%BA%20%27%3B%7D%3B%3B%0A%20%20%20%20%20%20%20%20%20%20%20%20mouse_position_eb61822348274aeba9a2abe470ae2417.options%5B%22lngFormatter%22%5D%20%3D%0A%20%20%20%20%20%20%20%20%20%20%20%20%20%20%20%20function%28num%29%20%7Breturn%20L.Util.formatNum%28num%2C%203%29%20%2B%20%27%20%C2%BA%20%27%3B%7D%3B%3B%0A%20%20%20%20%20%20%20%20%20%20%20%20map_07e1840a9c544758a5e0f9e4962b1788.addControl%28mouse_position_eb61822348274aeba9a2abe470ae2417%29%3B%0A%20%20%20%20%20%20%20%20%0A%20%20%20%20%0A%20%20%20%20%20%20%20%20%20%20%20%20var%20options%20%3D%20%7B%0A%20%20%20%20%20%20%20%20%20%20%20%20%20%20position%3A%20%22topleft%22%2C%0A%20%20%20%20%20%20%20%20%20%20%20%20%20%20draw%3A%20%7B%7D%2C%0A%20%20%20%20%20%20%20%20%20%20%20%20%20%20edit%3A%20%7B%7D%2C%0A%20%20%20%20%20%20%20%20%20%20%20%20%7D%0A%20%20%20%20%20%20%20%20%20%20%20%20//%20FeatureGroup%20is%20to%20store%20editable%20layers.%0A%20%20%20%20%20%20%20%20%20%20%20%20var%20drawnItems%20%3D%20new%20L.featureGroup%28%29.addTo%28%0A%20%20%20%20%20%20%20%20%20%20%20%20%20%20%20%20map_07e1840a9c544758a5e0f9e4962b1788%0A%20%20%20%20%20%20%20%20%20%20%20%20%29%3B%0A%20%20%20%20%20%20%20%20%20%20%20%20options.edit.featureGroup%20%3D%20drawnItems%3B%0A%20%20%20%20%20%20%20%20%20%20%20%20var%20draw_control_35f89a06e4044180902e3f9d7b5d5305%20%3D%20new%20L.Control.Draw%28%0A%20%20%20%20%20%20%20%20%20%20%20%20%20%20%20%20options%0A%20%20%20%20%20%20%20%20%20%20%20%20%29.addTo%28%20map_07e1840a9c544758a5e0f9e4962b1788%20%29%3B%0A%20%20%20%20%20%20%20%20%20%20%20%20map_07e1840a9c544758a5e0f9e4962b1788.on%28L.Draw.Event.CREATED%2C%20function%28e%29%20%7B%0A%20%20%20%20%20%20%20%20%20%20%20%20%20%20%20%20var%20layer%20%3D%20e.layer%2C%0A%20%20%20%20%20%20%20%20%20%20%20%20%20%20%20%20%20%20%20%20type%20%3D%20e.layerType%3B%0A%20%20%20%20%20%20%20%20%20%20%20%20%20%20%20%20var%20coords%20%3D%20JSON.stringify%28layer.toGeoJSON%28%29%29%3B%0A%20%20%20%20%20%20%20%20%20%20%20%20%20%20%20%20layer.on%28%27click%27%2C%20function%28%29%20%7B%0A%20%20%20%20%20%20%20%20%20%20%20%20%20%20%20%20%20%20%20%20alert%28coords%29%3B%0A%20%20%20%20%20%20%20%20%20%20%20%20%20%20%20%20%20%20%20%20console.log%28coords%29%3B%0A%20%20%20%20%20%20%20%20%20%20%20%20%20%20%20%20%7D%29%3B%0A%20%20%20%20%20%20%20%20%20%20%20%20%20%20%20%20drawnItems.addLayer%28layer%29%3B%0A%20%20%20%20%20%20%20%20%20%20%20%20%20%7D%29%3B%0A%20%20%20%20%20%20%20%20%20%20%20%20map_07e1840a9c544758a5e0f9e4962b1788.on%28%27draw%3Acreated%27%2C%20function%28e%29%20%7B%0A%20%20%20%20%20%20%20%20%20%20%20%20%20%20%20%20drawnItems.addLayer%28e.layer%29%3B%0A%20%20%20%20%20%20%20%20%20%20%20%20%7D%29%3B%0A%20%20%20%20%20%20%20%20%20%20%20%20%0A%20%20%20%20%20%20%20%20%20%20%20%20document.getElementById%28%27export%27%29.onclick%20%3D%20function%28e%29%20%7B%0A%20%20%20%20%20%20%20%20%20%20%20%20%20%20%20%20var%20data%20%3D%20drawnItems.toGeoJSON%28%29%3B%0A%20%20%20%20%20%20%20%20%20%20%20%20%20%20%20%20var%20convertedData%20%3D%20%27text/json%3Bcharset%3Dutf-8%2C%27%0A%20%20%20%20%20%20%20%20%20%20%20%20%20%20%20%20%20%20%20%20%2B%20encodeURIComponent%28JSON.stringify%28data%29%29%3B%0A%20%20%20%20%20%20%20%20%20%20%20%20%20%20%20%20document.getElementById%28%27export%27%29.setAttribute%28%0A%20%20%20%20%20%20%20%20%20%20%20%20%20%20%20%20%20%20%20%20%27href%27%2C%20%27data%3A%27%20%2B%20convertedData%0A%20%20%20%20%20%20%20%20%20%20%20%20%20%20%20%20%29%3B%0A%20%20%20%20%20%20%20%20%20%20%20%20%20%20%20%20document.getElementById%28%27export%27%29.setAttribute%28%0A%20%20%20%20%20%20%20%20%20%20%20%20%20%20%20%20%20%20%20%20%27download%27%2C%20%22data.geojson%22%0A%20%20%20%20%20%20%20%20%20%20%20%20%20%20%20%20%29%3B%0A%20%20%20%20%20%20%20%20%20%20%20%20%7D%0A%20%20%20%20%20%20%20%20%20%20%20%20%0A%20%20%20%20%20%20%20%20%0A%20%20%20%20%0A%20%20%20%20%20%20%20%20%20%20%20%20var%20measure_control_4500658cd0bc4f1ab9bae1b4f0b39490%20%3D%20new%20L.Control.Measure%28%0A%20%20%20%20%20%20%20%20%20%20%20%20%20%20%20%20%7B%22position%22%3A%20%22topright%22%2C%20%22primaryAreaUnit%22%3A%20%22sqmeters%22%2C%20%22primaryLengthUnit%22%3A%20%22meters%22%2C%20%22secondaryAreaUnit%22%3A%20%22acres%22%2C%20%22secondaryLengthUnit%22%3A%20%22miles%22%7D%29%3B%0A%20%20%20%20%20%20%20%20%20%20%20%20map_07e1840a9c544758a5e0f9e4962b1788.addControl%28measure_control_4500658cd0bc4f1ab9bae1b4f0b39490%29%3B%0A%0A%20%20%20%20%20%20%20%20%0A%3C/script%3E onload=\"this.contentDocument.open();this.contentDocument.write(    decodeURIComponent(this.getAttribute('data-html')));this.contentDocument.close();\" allowfullscreen webkitallowfullscreen mozallowfullscreen></iframe></div></div>"
      ],
      "text/plain": [
       "<folium.folium.Map at 0x7f6753a46a58>"
      ]
     },
     "execution_count": 17,
     "metadata": {},
     "output_type": "execute_result"
    }
   ],
   "source": [
    "# RGB\n",
    "mapid_1 = image.getMapId({'bands': ['B4', 'B3', 'B2'], 'min': 0, 'max': 3000}) # Mosaico RGB\n",
    "center = [19.4338, -99.13261]\n",
    "map = folium.Map(location=center, zoom_start=13)\n",
    "\n",
    "folium.TileLayer(\n",
    "    tiles=mapid_1['tile_fetcher'].url_format,\n",
    "    attr='Map Data &copy; <a href=\"https://earthengine.google.com/\">Google Earth Engine</a>',\n",
    "    overlay=True,\n",
    "    name='Color Verdadero',\n",
    "  ).add_to(map)\n",
    "\n",
    "# NDVI\n",
    "mapid_2 = ndvi.getMapId({'palette': ['red', 'white', 'green'], 'min': -1, 'max': 1}) # Mosaico NDVI\n",
    "folium.TileLayer(\n",
    "    tiles=mapid_2['tile_fetcher'].url_format,\n",
    "    attr='Map Data &copy; <a href=\"https://earthengine.google.com/\">Google Earth Engine</a>',\n",
    "    overlay=True,\n",
    "    name='NDVI',\n",
    "  ).add_to(map)\n",
    "\n",
    "# fv\n",
    "mapid_3 = fv.getMapId({'min': -1, 'max': 1}) # Mosaico fv \n",
    "folium.TileLayer(\n",
    "    tiles=mapid_3['tile_fetcher'].url_format,\n",
    "    attr='Map Data &copy; <a href=\"https://earthengine.google.com/\">Google Earth Engine</a>',\n",
    "    overlay=True,\n",
    "    name='fv',\n",
    "  ).add_to(map)\n",
    "\n",
    "# thermal\n",
    "mapid_4 = thermal.getMapId({'min': 272, 'max': 314, 'palette': ['blue','white', 'green']}) # banda thermal \n",
    "folium.TileLayer(\n",
    "    tiles=mapid_4['tile_fetcher'].url_format,\n",
    "    attr='Map Data &copy; <a href=\"https://earthengine.google.com/\">Google Earth Engine</a>',\n",
    "    overlay=True,\n",
    "    name='thermal',\n",
    "  ).add_to(map)\n",
    "\n",
    "# EMM\n",
    "mapid_5 = EM.getMapId({'min': 0.98, 'max': 0.99}) # Mosaico Emisividad \n",
    "folium.TileLayer(\n",
    "    tiles=mapid_5['tile_fetcher'].url_format,\n",
    "    attr='Map Data &copy; <a href=\"https://earthengine.google.com/\">Google Earth Engine</a>',\n",
    "    overlay=True,\n",
    "    name='Emisividad',\n",
    "  ).add_to(map)\n",
    "\n",
    "# LST\n",
    "mapid_6 = LST.getMapId({'min': 0.09, 'max':42, 'palette': [\n",
    "'040274', '040281', '0502a3', '0502b8', '0502ce', '0502e6',\n",
    "'0602ff', '235cb1', '307ef3', '269db1', '30c8e2', '32d3ef',\n",
    "'3be285', '3ff38f', '86e26f', '3ae237', 'b5e22e', 'd6e21f',\n",
    "'fff705', 'ffd611', 'ffb613', 'ff8b13', 'ff6e08', 'ff500d',\n",
    "'ff0000', 'de0101', 'c21301', 'a71001', '911003'\n",
    " ], 'opacity': 0.5}) # Mosaico LST \n",
    "folium.TileLayer(\n",
    "    tiles=mapid_6['tile_fetcher'].url_format,\n",
    "    attr='Map Data &copy; <a href=\"https://earthengine.google.com/\">Google Earth Engine</a>',\n",
    "    overlay=True,\n",
    "    name='LST',\n",
    "  ).add_to(map)\n",
    "\n",
    "map.add_child(folium.LayerControl())\n",
    "\n",
    "#mouse position\n",
    "fmtr = \"function(num) {return L.Util.formatNum(num, 3) + ' º ';};\"\n",
    "plugins.MousePosition(position='bottomright', separator=' | ', prefix=\"Mouse:\",lat_formatter=fmtr, lng_formatter=fmtr).add_to(map)\n",
    "\n",
    "#Add the draw \n",
    "plugins.Draw(export=True, filename='data.geojson', position='topleft', draw_options=None, edit_options=None).add_to(map)  \n",
    "\n",
    "#Add measure tool \n",
    "plugins.MeasureControl(position='topright', primary_length_unit='meters', secondary_length_unit='miles', primary_area_unit='sqmeters', secondary_area_unit='acres').add_to(map)\n",
    "\n",
    "map"
   ]
  },
  {
   "cell_type": "code",
   "execution_count": 18,
   "id": "702ababb",
   "metadata": {},
   "outputs": [],
   "source": [
    "# Guardar mapa en un archivo.\n",
    "## map.save('Ciudad_de_Mexico_LST.html')"
   ]
  },
  {
   "cell_type": "code",
   "execution_count": null,
   "id": "3d1b4112",
   "metadata": {},
   "outputs": [],
   "source": []
  }
 ],
 "metadata": {
  "kernelspec": {
   "display_name": "Python 3",
   "language": "python",
   "name": "python3"
  },
  "language_info": {
   "codemirror_mode": {
    "name": "ipython",
    "version": 3
   },
   "file_extension": ".py",
   "mimetype": "text/x-python",
   "name": "python",
   "nbconvert_exporter": "python",
   "pygments_lexer": "ipython3",
   "version": "3.6.9"
  }
 },
 "nbformat": 4,
 "nbformat_minor": 5
}
