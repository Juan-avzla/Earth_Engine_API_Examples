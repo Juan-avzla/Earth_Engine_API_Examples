{
 "cells": [
  {
   "cell_type": "markdown",
   "id": "8b3b5276",
   "metadata": {},
   "source": [
    "**Reference**\n",
    "\n",
    "Github:https://github.com/bwilder95/Test-Area/blob/master/COLAB/GPP_Example.ipynb\n",
    "\n",
    "StackOverflow: https://stackoverflow.com/questions/20965046/cumulative-sum-and-percentage-on-column"
   ]
  },
  {
   "cell_type": "markdown",
   "id": "fc077362",
   "metadata": {},
   "source": [
    "## Instalacion de librerias"
   ]
  },
  {
   "cell_type": "code",
   "execution_count": 276,
   "id": "6dda7b91",
   "metadata": {},
   "outputs": [],
   "source": [
    "import pandas as pd\n",
    "import ee\n",
    "ee.Initialize()"
   ]
  },
  {
   "cell_type": "markdown",
   "id": "6b0a7e44",
   "metadata": {},
   "source": [
    "## Crear una coleccion"
   ]
  },
  {
   "cell_type": "code",
   "execution_count": 277,
   "id": "341f42d9",
   "metadata": {},
   "outputs": [],
   "source": [
    "dataset = ee.ImageCollection('MODIS/006/MOD17A2H')\n",
    "\n",
    "# Initial date of interest (inclusive).\n",
    "i_date = '2020-01-01'\n",
    "\n",
    "# Final date of interest (exclusive).\n",
    "f_date = '2020-12-31'\n",
    "\n",
    "# Selection of appropriate bands and dates.\n",
    "GPP = dataset.select('Gpp').filterDate(i_date, f_date)"
   ]
  },
  {
   "cell_type": "markdown",
   "id": "8925cc8f",
   "metadata": {},
   "source": [
    "## Crear un punto de analisis"
   ]
  },
  {
   "cell_type": "code",
   "execution_count": 278,
   "id": "f82f24cb",
   "metadata": {},
   "outputs": [],
   "source": [
    "# Crear una geometria de tipo punto\n",
    "\n",
    "p_lon = -100.7917\n",
    "p_lat = 21.0721\n",
    "test_point = ee.Geometry.Point(p_lon, p_lat)"
   ]
  },
  {
   "cell_type": "code",
   "execution_count": 279,
   "id": "76113bc0",
   "metadata": {},
   "outputs": [
    {
     "name": "stdout",
     "output_type": "stream",
     "text": [
      "GPP Value: 101.56521739130434 kg*C/m^2\n"
     ]
    }
   ],
   "source": [
    "scale = 250  # scale in meters\n",
    "\n",
    "# Calculate and print the mean value of the collection at the point.\n",
    "GPP_test_point = GPP.mean().sample(test_point, scale).first().get('Gpp').getInfo()\n",
    "print('GPP Value:', GPP_test_point, 'kg*C/m^2')"
   ]
  },
  {
   "cell_type": "code",
   "execution_count": 280,
   "id": "c03d8e45",
   "metadata": {},
   "outputs": [],
   "source": [
    "# Create function that takes median of single band (gpp in this case) for ca\n",
    "def reduce(img):\n",
    "    mean = img.reduceRegion(reducer=ee.Reducer.mean(), geometry=test_point\n",
    "                               ,scale=250).get('Gpp')\n",
    "    return img.set('date', img.date().format()).set('mean',mean)"
   ]
  },
  {
   "cell_type": "code",
   "execution_count": 281,
   "id": "feb01f9c",
   "metadata": {},
   "outputs": [],
   "source": [
    "# Reduce images\n",
    "reduce_dataset = GPP.map(reduce)"
   ]
  },
  {
   "cell_type": "code",
   "execution_count": 282,
   "id": "adee4913",
   "metadata": {},
   "outputs": [
    {
     "data": {
      "text/html": [
       "<div>\n",
       "<style scoped>\n",
       "    .dataframe tbody tr th:only-of-type {\n",
       "        vertical-align: middle;\n",
       "    }\n",
       "\n",
       "    .dataframe tbody tr th {\n",
       "        vertical-align: top;\n",
       "    }\n",
       "\n",
       "    .dataframe thead th {\n",
       "        text-align: right;\n",
       "    }\n",
       "</style>\n",
       "<table border=\"1\" class=\"dataframe\">\n",
       "  <thead>\n",
       "    <tr style=\"text-align: right;\">\n",
       "      <th></th>\n",
       "      <th>Date</th>\n",
       "      <th>Mean GPP (kg*C/m^2/8-day)</th>\n",
       "    </tr>\n",
       "  </thead>\n",
       "  <tbody>\n",
       "    <tr>\n",
       "      <th>0</th>\n",
       "      <td>2020-01-01T00:00:00</td>\n",
       "      <td>55</td>\n",
       "    </tr>\n",
       "    <tr>\n",
       "      <th>1</th>\n",
       "      <td>2020-01-09T00:00:00</td>\n",
       "      <td>54</td>\n",
       "    </tr>\n",
       "    <tr>\n",
       "      <th>2</th>\n",
       "      <td>2020-01-17T00:00:00</td>\n",
       "      <td>57</td>\n",
       "    </tr>\n",
       "    <tr>\n",
       "      <th>3</th>\n",
       "      <td>2020-01-25T00:00:00</td>\n",
       "      <td>65</td>\n",
       "    </tr>\n",
       "    <tr>\n",
       "      <th>4</th>\n",
       "      <td>2020-02-02T00:00:00</td>\n",
       "      <td>67</td>\n",
       "    </tr>\n",
       "  </tbody>\n",
       "</table>\n",
       "</div>"
      ],
      "text/plain": [
       "                  Date  Mean GPP (kg*C/m^2/8-day)\n",
       "0  2020-01-01T00:00:00                         55\n",
       "1  2020-01-09T00:00:00                         54\n",
       "2  2020-01-17T00:00:00                         57\n",
       "3  2020-01-25T00:00:00                         65\n",
       "4  2020-02-02T00:00:00                         67"
      ]
     },
     "execution_count": 282,
     "metadata": {},
     "output_type": "execute_result"
    }
   ],
   "source": [
    "# Save to pandas df\n",
    "reduce_list = reduce_dataset.reduceColumns(ee.Reducer.toList(2), ['date','mean',]).values().get(0)\n",
    "df = pd.DataFrame(reduce_list.getInfo(), columns=['Date','Mean GPP (kg*C/m^2/8-day)'])\n",
    "df.head()"
   ]
  },
  {
   "cell_type": "markdown",
   "id": "42a48289",
   "metadata": {},
   "source": [
    "## Generacion de los valores acumulativos"
   ]
  },
  {
   "cell_type": "code",
   "execution_count": 283,
   "id": "d2f4c23f",
   "metadata": {},
   "outputs": [
    {
     "data": {
      "text/html": [
       "<div>\n",
       "<style scoped>\n",
       "    .dataframe tbody tr th:only-of-type {\n",
       "        vertical-align: middle;\n",
       "    }\n",
       "\n",
       "    .dataframe tbody tr th {\n",
       "        vertical-align: top;\n",
       "    }\n",
       "\n",
       "    .dataframe thead th {\n",
       "        text-align: right;\n",
       "    }\n",
       "</style>\n",
       "<table border=\"1\" class=\"dataframe\">\n",
       "  <thead>\n",
       "    <tr style=\"text-align: right;\">\n",
       "      <th></th>\n",
       "      <th>Date</th>\n",
       "      <th>Mean GPP (kg*C/m^2/8-day)</th>\n",
       "      <th>cum_sum</th>\n",
       "    </tr>\n",
       "  </thead>\n",
       "  <tbody>\n",
       "    <tr>\n",
       "      <th>0</th>\n",
       "      <td>2020-01-01T00:00:00</td>\n",
       "      <td>55</td>\n",
       "      <td>55</td>\n",
       "    </tr>\n",
       "    <tr>\n",
       "      <th>1</th>\n",
       "      <td>2020-01-09T00:00:00</td>\n",
       "      <td>54</td>\n",
       "      <td>109</td>\n",
       "    </tr>\n",
       "    <tr>\n",
       "      <th>2</th>\n",
       "      <td>2020-01-17T00:00:00</td>\n",
       "      <td>57</td>\n",
       "      <td>166</td>\n",
       "    </tr>\n",
       "    <tr>\n",
       "      <th>3</th>\n",
       "      <td>2020-01-25T00:00:00</td>\n",
       "      <td>65</td>\n",
       "      <td>231</td>\n",
       "    </tr>\n",
       "    <tr>\n",
       "      <th>4</th>\n",
       "      <td>2020-02-02T00:00:00</td>\n",
       "      <td>67</td>\n",
       "      <td>298</td>\n",
       "    </tr>\n",
       "  </tbody>\n",
       "</table>\n",
       "</div>"
      ],
      "text/plain": [
       "                  Date  Mean GPP (kg*C/m^2/8-day)  cum_sum\n",
       "0  2020-01-01T00:00:00                         55       55\n",
       "1  2020-01-09T00:00:00                         54      109\n",
       "2  2020-01-17T00:00:00                         57      166\n",
       "3  2020-01-25T00:00:00                         65      231\n",
       "4  2020-02-02T00:00:00                         67      298"
      ]
     },
     "execution_count": 283,
     "metadata": {},
     "output_type": "execute_result"
    }
   ],
   "source": [
    "df['cum_sum'] = df['Mean GPP (kg*C/m^2/8-day)'].cumsum()\n",
    "df.head()"
   ]
  },
  {
   "cell_type": "code",
   "execution_count": 284,
   "id": "8f932166",
   "metadata": {},
   "outputs": [
    {
     "data": {
      "text/html": [
       "<div>\n",
       "<style scoped>\n",
       "    .dataframe tbody tr th:only-of-type {\n",
       "        vertical-align: middle;\n",
       "    }\n",
       "\n",
       "    .dataframe tbody tr th {\n",
       "        vertical-align: top;\n",
       "    }\n",
       "\n",
       "    .dataframe thead th {\n",
       "        text-align: right;\n",
       "    }\n",
       "</style>\n",
       "<table border=\"1\" class=\"dataframe\">\n",
       "  <thead>\n",
       "    <tr style=\"text-align: right;\">\n",
       "      <th></th>\n",
       "      <th>Mean GPP (kg*C/m^2/8-day)</th>\n",
       "      <th>cum_sum</th>\n",
       "    </tr>\n",
       "    <tr>\n",
       "      <th>Date</th>\n",
       "      <th></th>\n",
       "      <th></th>\n",
       "    </tr>\n",
       "  </thead>\n",
       "  <tbody>\n",
       "    <tr>\n",
       "      <th>2020-01-01</th>\n",
       "      <td>55</td>\n",
       "      <td>55</td>\n",
       "    </tr>\n",
       "    <tr>\n",
       "      <th>2020-01-09</th>\n",
       "      <td>54</td>\n",
       "      <td>109</td>\n",
       "    </tr>\n",
       "    <tr>\n",
       "      <th>2020-01-17</th>\n",
       "      <td>57</td>\n",
       "      <td>166</td>\n",
       "    </tr>\n",
       "    <tr>\n",
       "      <th>2020-01-25</th>\n",
       "      <td>65</td>\n",
       "      <td>231</td>\n",
       "    </tr>\n",
       "    <tr>\n",
       "      <th>2020-02-02</th>\n",
       "      <td>67</td>\n",
       "      <td>298</td>\n",
       "    </tr>\n",
       "  </tbody>\n",
       "</table>\n",
       "</div>"
      ],
      "text/plain": [
       "            Mean GPP (kg*C/m^2/8-day)  cum_sum\n",
       "Date                                          \n",
       "2020-01-01                         55       55\n",
       "2020-01-09                         54      109\n",
       "2020-01-17                         57      166\n",
       "2020-01-25                         65      231\n",
       "2020-02-02                         67      298"
      ]
     },
     "execution_count": 284,
     "metadata": {},
     "output_type": "execute_result"
    }
   ],
   "source": [
    "df['Date'] = pd.to_datetime(df['Date'])\n",
    "df.set_index('Date', inplace=True)\n",
    "\n",
    "df.head()"
   ]
  },
  {
   "cell_type": "markdown",
   "id": "f0b1c09a",
   "metadata": {},
   "source": [
    "## Generar un grafico"
   ]
  },
  {
   "cell_type": "code",
   "execution_count": 285,
   "id": "432faef8",
   "metadata": {},
   "outputs": [
    {
     "data": {
      "text/plain": [
       "<matplotlib.axes._subplots.AxesSubplot at 0x7fb284f03278>"
      ]
     },
     "execution_count": 285,
     "metadata": {},
     "output_type": "execute_result"
    },
    {
     "data": {
      "image/png": "[encoded data removed]",
      "text/plain": [
       "<matplotlib.figure.Figure at 0x7fb2850a1f60>"
      ]
     },
     "metadata": {},
     "output_type": "display_data"
    }
   ],
   "source": [
    "import seaborn as sns\n",
    "\n",
    "sns.set(rc={'figure.figsize':(14,14)})\n",
    "sns.lineplot(x='Date',y='cum_sum',data=df,legend='full', palette='winter')"
   ]
  },
  {
   "cell_type": "code",
   "execution_count": null,
   "id": "cdd08f33",
   "metadata": {},
   "outputs": [],
   "source": []
  }
 ],
 "metadata": {
  "kernelspec": {
   "display_name": "Python 3",
   "language": "python",
   "name": "python3"
  },
  "language_info": {
   "codemirror_mode": {
    "name": "ipython",
    "version": 3
   },
   "file_extension": ".py",
   "mimetype": "text/x-python",
   "name": "python",
   "nbconvert_exporter": "python",
   "pygments_lexer": "ipython3",
   "version": "3.6.9"
  }
 },
 "nbformat": 4,
 "nbformat_minor": 5
}
